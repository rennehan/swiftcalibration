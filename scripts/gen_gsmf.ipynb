{
 "cells": [
  {
   "cell_type": "markdown",
   "metadata": {},
   "source": [
    "## Load libraries"
   ]
  },
  {
   "cell_type": "code",
   "execution_count": 1,
   "metadata": {},
   "outputs": [],
   "source": [
    "#%matplotlib notebook\n",
    "import yt\n",
    "#yt.toggle_interactivity()\n",
    "import caesar\n",
    "import os\n",
    "import numpy as np\n",
    "import matplotlib.pyplot as plt"
   ]
  },
  {
   "cell_type": "markdown",
   "metadata": {},
   "source": [
    "## Load snapshot into yt"
   ]
  },
  {
   "cell_type": "code",
   "execution_count": 152,
   "metadata": {},
   "outputs": [
    {
     "name": "stderr",
     "output_type": "stream",
     "text": [
      "yt : [INFO     ] 2023-04-17 15:13:24,128 SwiftDataset!\n",
      "yt : [INFO     ] 2023-04-17 15:13:24,139 Calculating time from 1.418e-02 to be 4.375e+17 seconds\n",
      "yt : [INFO     ] 2023-04-17 15:13:24,172 Assuming length units are in comoving centimetres\n"
     ]
    },
    {
     "name": "stdout",
     "output_type": "stream",
     "text": [
      "/scratch/b/babul/aspadawe/swift_tests/cali_simba/cali_0000/doug_s18n128_0015.hdf5\n"
     ]
    },
    {
     "name": "stderr",
     "output_type": "stream",
     "text": [
      "yt : [INFO     ] 2023-04-17 15:13:24,220 Parameters: current_time              = 4.37485659429611e+17 s\n",
      "yt : [INFO     ] 2023-04-17 15:13:24,222 Parameters: domain_dimensions         = [1 1 1]\n",
      "yt : [INFO     ] 2023-04-17 15:13:24,223 Parameters: domain_left_edge          = [0. 0. 0.]\n",
      "yt : [INFO     ] 2023-04-17 15:13:24,225 Parameters: domain_right_edge         = [18.38235294 18.38235294 18.38235294]\n",
      "yt : [INFO     ] 2023-04-17 15:13:24,225 Parameters: cosmological_simulation   = 1\n",
      "yt : [INFO     ] 2023-04-17 15:13:24,226 Parameters: current_redshift          = 2.220446049250313e-16\n",
      "yt : [INFO     ] 2023-04-17 15:13:24,227 Parameters: omega_lambda              = 0.7\n",
      "yt : [INFO     ] 2023-04-17 15:13:24,227 Parameters: omega_matter              = 0.3\n",
      "yt : [INFO     ] 2023-04-17 15:13:24,228 Parameters: omega_radiation           = 0.0\n",
      "yt : [INFO     ] 2023-04-17 15:13:24,229 Parameters: hubble_constant           = 0.68\n"
     ]
    }
   ],
   "source": [
    "# first we load your snapshot into yt\n",
    "snap_prefix = 'doug_s18n128'\n",
    "snap_num = '0015'\n",
    "cali_num = 'cali_0000'\n",
    "#cali_num = ''\n",
    "snap_dir = '/scratch/b/babul/aspadawe/swift_tests/cali_simba'\n",
    "snap = os.path.join(snap_dir, cali_num, snap_prefix+'_'+snap_num+'.hdf5')\n",
    "print(snap)\n",
    "ds = yt.load(snap)\n",
    "#redshift = ds.parameters['Redshift'][0]\n",
    "#print('z=%s' % (redshift))"
   ]
  },
  {
   "cell_type": "code",
   "execution_count": 153,
   "metadata": {},
   "outputs": [
    {
     "name": "stdout",
     "output_type": "stream",
     "text": [
      "[18.38235294 18.38235294 18.38235294] Mpc\n",
      "Comoving Volume=6211.597414298313 Mpccm**3\n"
     ]
    }
   ],
   "source": [
    "#h = ds.parameters['hubble_constant']\n",
    "#h = 0.68\n",
    "Lcom = ds.domain_width.in_units(\"Mpc\")\n",
    "#Vcom = Lcom[0] * Lcom[1] * Lcom[2]\n",
    "Vcom = ds.domain_width.in_units(\"Mpccm\").prod()\n",
    "print(Lcom)\n",
    "print(\"Comoving Volume=%s\" % Vcom)"
   ]
  },
  {
   "cell_type": "code",
   "execution_count": 163,
   "metadata": {},
   "outputs": [
    {
     "name": "stderr",
     "output_type": "stream",
     "text": [
      "yt : [INFO     ] 2023-04-17 15:23:20,327 Allocating for 4.194e+06 particles\n",
      "Loading particle index: 100%|██████████| 8/8 [00:00<00:00, 235.62it/s]\n"
     ]
    },
    {
     "data": {
      "text/plain": [
       "[('PartType0', 'AtomicHydrogenMasses'),\n",
       " ('PartType0', 'AveragedStarFormationRates'),\n",
       " ('PartType0', 'ComptonYParameters'),\n",
       " ('PartType0', 'Coordinates'),\n",
       " ('PartType0', 'Densities'),\n",
       " ('PartType0', 'DensitiesAtLastAGNEvent'),\n",
       " ('PartType0', 'DensitiesBeforeLastAGNEvent'),\n",
       " ('PartType0', 'ElectronNumberDensities'),\n",
       " ('PartType0', 'ElementMassFractions'),\n",
       " ('PartType0', 'EnergiesReceivedFromAGNFeedback'),\n",
       " ('PartType0', 'Entropies'),\n",
       " ('PartType0', 'EntropiesAtLastAGNEvent'),\n",
       " ('PartType0', 'EntropiesBeforeLastAGNEvent'),\n",
       " ('PartType0', 'FOFGroupIDs'),\n",
       " ('PartType0', 'HeatedByAGNFeedback'),\n",
       " ('PartType0', 'HeatedBySNIIFeedback'),\n",
       " ('PartType0', 'InternalEnergies'),\n",
       " ('PartType0', 'IronMassFractionsFromSNIa'),\n",
       " ('PartType0', 'LastAGNFeedbackScaleFactors'),\n",
       " ('PartType0', 'Masses'),\n",
       " ('PartType0', 'MassesFromAGB'),\n",
       " ('PartType0', 'MassesFromSNII'),\n",
       " ('PartType0', 'MassesFromSNIa'),\n",
       " ('PartType0', 'MaximalTemperatureScaleFactors'),\n",
       " ('PartType0', 'MaximalTemperatures'),\n",
       " ('PartType0', 'MetalMassFractions'),\n",
       " ('PartType0', 'MetalMassFractionsFromAGB'),\n",
       " ('PartType0', 'MetalMassFractionsFromSNII'),\n",
       " ('PartType0', 'MetalMassFractionsFromSNIa'),\n",
       " ('PartType0', 'MolecularHydrogenFractions'),\n",
       " ('PartType0', 'MolecularHydrogenMasses'),\n",
       " ('PartType0', 'ParticleIDs'),\n",
       " ('PartType0', 'Potentials'),\n",
       " ('PartType0', 'Pressures'),\n",
       " ('PartType0', 'ProgenitorParticleIDs'),\n",
       " ('PartType0', 'SmoothedElementMassFractions'),\n",
       " ('PartType0', 'SmoothedIronMassFractionsFromSNIa'),\n",
       " ('PartType0', 'SmoothedMetalMassFractions'),\n",
       " ('PartType0', 'SmoothingLengths'),\n",
       " ('PartType0', 'SpeciesFractions'),\n",
       " ('PartType0', 'SplitCounts'),\n",
       " ('PartType0', 'SplitTrees'),\n",
       " ('PartType0', 'StarFormationRates'),\n",
       " ('PartType0', 'SubgridPhysicalDensities'),\n",
       " ('PartType0', 'SubgridTemperatures'),\n",
       " ('PartType0', 'Temperatures'),\n",
       " ('PartType0', 'Velocities'),\n",
       " ('PartType0', 'ViscosityParameters'),\n",
       " ('PartType1', 'Coordinates'),\n",
       " ('PartType1', 'FOFGroupIDs'),\n",
       " ('PartType1', 'Masses'),\n",
       " ('PartType1', 'ParticleIDs'),\n",
       " ('PartType1', 'Potentials'),\n",
       " ('PartType1', 'Softenings'),\n",
       " ('PartType1', 'Velocities'),\n",
       " ('PartType4', 'AveragedStarFormationRates'),\n",
       " ('PartType4', 'BirthDensities'),\n",
       " ('PartType4', 'BirthScaleFactors'),\n",
       " ('PartType4', 'BirthTemperatures'),\n",
       " ('PartType4', 'Coordinates'),\n",
       " ('PartType4', 'DensitiesAtLastAGNEvent'),\n",
       " ('PartType4', 'DensitiesBeforeLastAGNEvent'),\n",
       " ('PartType4', 'ElementMassFractions'),\n",
       " ('PartType4', 'EnergiesReceivedFromAGNFeedback'),\n",
       " ('PartType4', 'EntropiesAtLastAGNEvent'),\n",
       " ('PartType4', 'EntropiesBeforeLastAGNEvent'),\n",
       " ('PartType4', 'FOFGroupIDs'),\n",
       " ('PartType4', 'FeedbackEnergyFractions'),\n",
       " ('PartType4', 'FeedbackNumberOfHeatingEvents'),\n",
       " ('PartType4', 'HeatedByAGNFeedback'),\n",
       " ('PartType4', 'HeatedBySNIIFeedback'),\n",
       " ('PartType4', 'InitialMasses'),\n",
       " ('PartType4', 'IronMassFractionsFromSNIa'),\n",
       " ('PartType4', 'LastAGNFeedbackScaleFactors'),\n",
       " ('PartType4', 'Luminosities'),\n",
       " ('PartType4', 'Masses'),\n",
       " ('PartType4', 'MassesFromAGB'),\n",
       " ('PartType4', 'MassesFromSNII'),\n",
       " ('PartType4', 'MassesFromSNIa'),\n",
       " ('PartType4', 'MaximalTemperatureScaleFactors'),\n",
       " ('PartType4', 'MaximalTemperatures'),\n",
       " ('PartType4', 'MetalMassFractions'),\n",
       " ('PartType4', 'MetalMassFractionsFromAGB'),\n",
       " ('PartType4', 'MetalMassFractionsFromSNII'),\n",
       " ('PartType4', 'MetalMassFractionsFromSNIa'),\n",
       " ('PartType4', 'NumberOfFeedbackEvents'),\n",
       " ('PartType4', 'ParticleIDs'),\n",
       " ('PartType4', 'Potentials'),\n",
       " ('PartType4', 'ProgenitorParticleIDs'),\n",
       " ('PartType4', 'SmoothedElementMassFractions'),\n",
       " ('PartType4', 'SmoothedIronMassFractionsFromSNIa'),\n",
       " ('PartType4', 'SmoothedMetalMassFractions'),\n",
       " ('PartType4', 'SmoothingLengths'),\n",
       " ('PartType4', 'SplitCounts'),\n",
       " ('PartType4', 'SplitTrees'),\n",
       " ('PartType4', 'Velocities'),\n",
       " ('PartType5', 'AGNTotalInjectedEnergies'),\n",
       " ('PartType5', 'AccretionBoostFactors'),\n",
       " ('PartType5', 'AccretionLimitedTimeSteps'),\n",
       " ('PartType5', 'AccretionRates'),\n",
       " ('PartType5', 'AveragedAccretionRates'),\n",
       " ('PartType5', 'BirthGasDensities'),\n",
       " ('PartType5', 'BirthMetallicities'),\n",
       " ('PartType5', 'Coordinates'),\n",
       " ('PartType5', 'CumulativeNumberOfSeeds'),\n",
       " ('PartType5', 'DynamicalMasses'),\n",
       " ('PartType5', 'EddingtonFractions'),\n",
       " ('PartType5', 'ElementMasses'),\n",
       " ('PartType5', 'EnergyReservoirThresholds'),\n",
       " ('PartType5', 'EnergyReservoirs'),\n",
       " ('PartType5', 'FOFGroupIDs'),\n",
       " ('PartType5', 'FeedbackDeltaT'),\n",
       " ('PartType5', 'FormationScaleFactors'),\n",
       " ('PartType5', 'GasCircularVelocities'),\n",
       " ('PartType5', 'GasDensities'),\n",
       " ('PartType5', 'GasSoundSpeeds'),\n",
       " ('PartType5', 'GasTemperatures'),\n",
       " ('PartType5', 'IronMassesFromSNIa'),\n",
       " ('PartType5', 'LastAGNFeedbackScaleFactors'),\n",
       " ('PartType5', 'LastHighEddingtonFractionScaleFactors'),\n",
       " ('PartType5', 'LastMajorMergerScaleFactors'),\n",
       " ('PartType5', 'LastMinorMergerScaleFactors'),\n",
       " ('PartType5', 'LastRepositionVelocities'),\n",
       " ('PartType5', 'MassesFromAGB'),\n",
       " ('PartType5', 'MassesFromSNII'),\n",
       " ('PartType5', 'MassesFromSNIa'),\n",
       " ('PartType5', 'MetalMasses'),\n",
       " ('PartType5', 'MetalMassesFromAGB'),\n",
       " ('PartType5', 'MetalMassesFromSNII'),\n",
       " ('PartType5', 'MetalMassesFromSNIa'),\n",
       " ('PartType5', 'NumberOfAGNEvents'),\n",
       " ('PartType5', 'NumberOfDirectSwallows'),\n",
       " ('PartType5', 'NumberOfGasNeighbours'),\n",
       " ('PartType5', 'NumberOfHeatingEvents'),\n",
       " ('PartType5', 'NumberOfMergers'),\n",
       " ('PartType5', 'NumberOfRepositionAttempts'),\n",
       " ('PartType5', 'NumberOfRepositions'),\n",
       " ('PartType5', 'NumberOfSwallows'),\n",
       " ('PartType5', 'NumberOfTimeSteps'),\n",
       " ('PartType5', 'ParticleIDs'),\n",
       " ('PartType5', 'Potentials'),\n",
       " ('PartType5', 'ProgenitorParticleIDs'),\n",
       " ('PartType5', 'SmoothedBirthMetallicities'),\n",
       " ('PartType5', 'SmoothingLengths'),\n",
       " ('PartType5', 'SplitCounts'),\n",
       " ('PartType5', 'SplitTrees'),\n",
       " ('PartType5', 'SubgridDensities'),\n",
       " ('PartType5', 'SubgridMasses'),\n",
       " ('PartType5', 'SubgridSoundSpeeds'),\n",
       " ('PartType5', 'SwallowedAngularMomenta'),\n",
       " ('PartType5', 'TimeBins'),\n",
       " ('PartType5', 'TotalAccretedMasses'),\n",
       " ('PartType5', 'Velocities'),\n",
       " ('all', 'Coordinates'),\n",
       " ('all', 'FOFGroupIDs'),\n",
       " ('all', 'ParticleIDs'),\n",
       " ('all', 'Potentials'),\n",
       " ('all', 'Velocities'),\n",
       " ('nbody', 'Coordinates'),\n",
       " ('nbody', 'FOFGroupIDs'),\n",
       " ('nbody', 'ParticleIDs'),\n",
       " ('nbody', 'Potentials'),\n",
       " ('nbody', 'Velocities')]"
      ]
     },
     "execution_count": 163,
     "metadata": {},
     "output_type": "execute_result"
    }
   ],
   "source": [
    "ds.field_list"
   ]
  },
  {
   "cell_type": "markdown",
   "metadata": {},
   "source": [
    "## Load caesar file"
   ]
  },
  {
   "cell_type": "code",
   "execution_count": 154,
   "metadata": {},
   "outputs": [
    {
     "name": "stderr",
     "output_type": "stream",
     "text": [
      "yt : [INFO     ] 2023-04-17 15:13:24,546 Opening /scratch/b/babul/aspadawe/swift_tests/cali_simba/cali_0000/doug_s18n128_caesar_0015.hdf5\n",
      "yt : [INFO     ] 2023-04-17 15:13:24,582 Found 2855 halos\n",
      "yt : [INFO     ] 2023-04-17 15:13:24,588 Found 192 galaxies\n"
     ]
    }
   ],
   "source": [
    "# define input file\n",
    "infile = os.path.join(snap_dir, cali_num, snap_prefix+'_caesar_'+snap_num+'.hdf5')\n",
    "\n",
    "# load in input file\n",
    "obj = caesar.load(infile)"
   ]
  },
  {
   "cell_type": "code",
   "execution_count": 155,
   "metadata": {},
   "outputs": [
    {
     "name": "stdout",
     "output_type": "stream",
     "text": [
      "z=2.220446049250313e-16\n",
      "h=0.68\n",
      "Comoving Volume=6211.597414298313 Mpccm**3\n"
     ]
    }
   ],
   "source": [
    "z = obj.simulation.redshift\n",
    "h = obj.simulation.hubble_constant\n",
    "#V = obj.simulation.domain_width\n",
    "#Vcom *= h**(-3)\n",
    "#Vcom = Vphys * (1+z)**3\n",
    "\n",
    "print('z=%s' % (z))\n",
    "print('h=%s' % (h))\n",
    "print(\"Comoving Volume=%s\" % Vcom)"
   ]
  },
  {
   "cell_type": "code",
   "execution_count": 161,
   "metadata": {},
   "outputs": [
    {
     "ename": "AttributeError",
     "evalue": "'SimulationAttributes' object has no attribute 'xray_f_gas_limit'",
     "output_type": "error",
     "traceback": [
      "\u001b[0;31m---------------------------------------------------------------------------\u001b[0m",
      "\u001b[0;31mAttributeError\u001b[0m                            Traceback (most recent call last)",
      "Cell \u001b[0;32mIn[161], line 1\u001b[0m\n\u001b[0;32m----> 1\u001b[0m \u001b[43mobj\u001b[49m\u001b[38;5;241;43m.\u001b[39;49m\u001b[43msimulation\u001b[49m\u001b[38;5;241;43m.\u001b[39;49m\u001b[43mxray_f_gas_limit\u001b[49m\n",
      "\u001b[0;31mAttributeError\u001b[0m: 'SimulationAttributes' object has no attribute 'xray_f_gas_limit'"
     ]
    }
   ],
   "source": [
    "obj.simulation.xray_f_gas_limit"
   ]
  },
  {
   "cell_type": "markdown",
   "metadata": {},
   "source": [
    "## Create Halo Mass Function (HMF) & Galaxy Stellar Mass Function (GSMF)"
   ]
  },
  {
   "cell_type": "code",
   "execution_count": 156,
   "metadata": {},
   "outputs": [
    {
     "name": "stdout",
     "output_type": "stream",
     "text": [
      "2855\n",
      "[1.75202831e+13 4.10213365e+12 3.68926340e+12 ... 0.00000000e+00\n",
      " 0.00000000e+00 0.00000000e+00]\n"
     ]
    }
   ],
   "source": [
    "halo_dm_masses = np.array([halo.masses['dm'] for halo in obj.halos])\n",
    "print(len(halo_dm_masses))\n",
    "print(halo_dm_masses)"
   ]
  },
  {
   "cell_type": "code",
   "execution_count": 157,
   "metadata": {},
   "outputs": [
    {
     "name": "stdout",
     "output_type": "stream",
     "text": [
      "2855\n",
      "[9.69584463e+12 2.63294104e+12 2.89828739e+12 ... 0.00000000e+00\n",
      " 0.00000000e+00 0.00000000e+00]\n"
     ]
    }
   ],
   "source": [
    "halo_vir_masses = np.array([halo.virial_quantities['m200c'] for halo in obj.halos])\n",
    "print(len(halo_vir_masses))\n",
    "print(halo_vir_masses)"
   ]
  },
  {
   "cell_type": "code",
   "execution_count": 158,
   "metadata": {},
   "outputs": [
    {
     "data": {
      "text/plain": [
       "192"
      ]
     },
     "execution_count": 158,
     "metadata": {},
     "output_type": "execute_result"
    }
   ],
   "source": [
    "stellar_masses = np.array([gal.masses['stellar'] for gal in obj.galaxies])\n",
    "len(stellar_masses)"
   ]
  },
  {
   "cell_type": "code",
   "execution_count": 167,
   "metadata": {},
   "outputs": [
    {
     "name": "stdout",
     "output_type": "stream",
     "text": [
      "8.057116308880772\n",
      "12.986585647597275\n",
      "[ 8.25  8.75  9.25  9.75 10.25 10.75 11.25 11.75 12.25 12.75 13.25]\n",
      "[ 54  93 969 758 335 181  50  22  13   1   0]\n"
     ]
    },
    {
     "data": {
      "text/plain": [
       "[<matplotlib.lines.Line2D at 0x7f8cb4d1dd00>]"
      ]
     },
     "execution_count": 167,
     "metadata": {},
     "output_type": "execute_result"
    },
    {
     "data": {
      "image/png": "[encoded data removed]",
      "text/plain": [
       "<Figure size 640x480 with 1 Axes>"
      ]
     },
     "metadata": {},
     "output_type": "display_data"
    }
   ],
   "source": [
    "#print(halo_dm_masses.min())\n",
    "logM = np.log10(halo_vir_masses[halo_vir_masses>0])        #Take logarithm\n",
    "print(logM.min())\n",
    "print(logM.max())\n",
    "dlogM = 0.5                             #bin width in dex\n",
    "#bins = np.arange(logM.min(), logM.max(), dlogM)\n",
    "bins = np.arange(8, 14, dlogM)\n",
    "nbins = len(bins)\n",
    "#nbins = 10                              #Number of bins to divide data into\n",
    "#Vcom     = 18**3 * h**(-3)              #Physical box volume in Mpc3\n",
    "Phi,edg = np.histogram(logM,bins=bins) #Unnormalized histogram and bin edges\n",
    "#dlogM    = edg[1] - edg[0]                 #Bin size\n",
    "logM_ax   = edg[0:-1] + dlogM/2.               #Mass axis\n",
    "print(logM_ax)\n",
    "print(Phi)\n",
    "Phi   = Phi / Vcom / dlogM                 #Normalize to volume and bin size\n",
    "\n",
    "#fig, ax = plt.subplots()\n",
    "plt.clf()\n",
    "plt.yscale('log')\n",
    "plt.xlabel(r'$\\log(M_{200c}\\,/\\,M_\\odot)$')\n",
    "plt.ylabel(r'$\\Phi=dn/dlogM_{200c}\\,[\\,\\mathrm{dex}^{-1}\\,\\mathrm{cMpc}^{-3}]$')\n",
    "plt.title(r'%s, snap %s, z=%s, nbins=%s' % (cali_num, snap_num, z, nbins))\n",
    "plt.grid()\n",
    "plt.minorticks_on()\n",
    "plt.plot(logM_ax,Phi,ls='-')"
   ]
  },
  {
   "cell_type": "code",
   "execution_count": 166,
   "metadata": {},
   "outputs": [
    {
     "name": "stdout",
     "output_type": "stream",
     "text": [
      "8.230542065000947\n",
      "8.854910460205478\n",
      "[ 8.25  8.75  9.25  9.75 10.25 10.75 11.25 11.75 12.25 12.75]\n",
      "[150  42   0   0   0   0   0   0   0   0]\n"
     ]
    },
    {
     "data": {
      "text/plain": [
       "[<matplotlib.lines.Line2D at 0x7f8cb4e131c0>]"
      ]
     },
     "execution_count": 166,
     "metadata": {},
     "output_type": "execute_result"
    },
    {
     "data": {
      "image/png": "[encoded data removed]",
      "text/plain": [
       "<Figure size 640x480 with 1 Axes>"
      ]
     },
     "metadata": {},
     "output_type": "display_data"
    }
   ],
   "source": [
    "logM = np.log10(stellar_masses)        #Take logarithm\n",
    "print(logM.min())\n",
    "print(logM.max())\n",
    "dlogM = 0.5                             #bin width in dex\n",
    "#bins = np.arange(logM.min(), logM.max(), dlogM)\n",
    "bins = np.arange(8, 13.5, dlogM)\n",
    "nbins = len(bins)\n",
    "#nbins = 10                              #Number of bins to divide data into\n",
    "#Vcom     = 18**3 * h**(-3)              #Physical box volume in Mpc3\n",
    "Phi,edg = np.histogram(logM,bins=bins) #Unnormalized histogram and bin edges\n",
    "#dlogM    = edg[1] - edg[0]                 #Bin size\n",
    "logM_ax   = edg[0:-1] + dlogM/2.               #Mass axis\n",
    "print(logM_ax)\n",
    "print(Phi)\n",
    "Phi   = Phi / Vcom / dlogM                 #Normalize to volume and bin size\n",
    "\n",
    "#fig, ax = plt.subplots()\n",
    "plt.clf()\n",
    "plt.yscale('log')\n",
    "plt.xlabel(r'$\\log(M_\\star\\,/\\,M_\\odot)$')\n",
    "plt.ylabel(r'$\\Phi=dn/dlogM_\\star\\,[\\,\\mathrm{dex}^{-1}\\,\\mathrm{cMpc}^{-3}]$')\n",
    "plt.title(r'%s, snap %s, z=%s, nbins=%s' % (cali_num, snap_num, z, nbins))\n",
    "#plt.ylabel(r'$\\log{(\\Phi\\,[\\,\\mathrm{dex}^{-1}\\,\\mathrm{cMpc}^{-3}])}$')\n",
    "#plt.plot(Max,Phi,ls='steps-post')\n",
    "plt.grid()\n",
    "plt.minorticks_on()\n",
    "#plt.tick_params(axis=\"y\",direction=\"in\")#, left=\"off\",labelleft=\"on\")\n",
    "plt.plot(logM_ax,Phi,ls='-')\n",
    "#plt.plot(Max,np.log10(Phi),ls='-')"
   ]
  },
  {
   "cell_type": "code",
   "execution_count": null,
   "metadata": {},
   "outputs": [],
   "source": []
  }
 ],
 "metadata": {
  "kernelspec": {
   "display_name": "yt_swift_caesar",
   "language": "python",
   "name": "yt_swift_caesar"
  },
  "language_info": {
   "codemirror_mode": {
    "name": "ipython",
    "version": 3
   },
   "file_extension": ".py",
   "mimetype": "text/x-python",
   "name": "python",
   "nbconvert_exporter": "python",
   "pygments_lexer": "ipython3",
   "version": "3.9.16"
  }
 },
 "nbformat": 4,
 "nbformat_minor": 4
}
